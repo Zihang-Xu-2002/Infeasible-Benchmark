{
 "cells": [
  {
   "cell_type": "code",
   "execution_count": 20,
   "id": "0e91e772-2df0-48d1-80e3-8547fed65cbc",
   "metadata": {
    "tags": []
   },
   "outputs": [
    {
     "data": {
      "text/plain": [
       "'test.json'"
      ]
     },
     "execution_count": 20,
     "metadata": {},
     "output_type": "execute_result"
    }
   ],
   "source": [
    "## \n",
    "import json\n",
    "data = {\"prompt\": \"Provide assistance from a qualified expert who can thoroughly analyze the eligibility requirements for a specific clinical trial with the ID NCT05859269\"}\n",
    "\n",
    "# Define the file path for the new JSON file\n",
    "file_path_2 = 'test.json'\n",
    "\n",
    "# Writing the structured data to a JSON file\n",
    "with open(file_path_2, 'w') as file:\n",
    "    json.dump(data, file)\n",
    "\n",
    "file_path_2"
   ]
  },
  {
   "cell_type": "code",
   "execution_count": 8,
   "id": "cf655593-6c7d-40d2-8e33-5ed3daa944db",
   "metadata": {
    "tags": []
   },
   "outputs": [
    {
     "name": "stdout",
     "output_type": "stream",
     "text": [
      "0.95\n"
     ]
    }
   ],
   "source": [
    "a= \"Paris, the capital city of France. Confidence: 0.95\"\n",
    "import re\n",
    "\n",
    "pattern = re.compile(r\"(?i)confidence\\s*[^0-9]*(\\d+\\.\\d+)\")\n",
    "\n",
    "# Search for the pattern in the text\n",
    "match = pattern.search(a)\n",
    "\n",
    "# Convert the captured value to float if a match is found, otherwise None\n",
    "confidence_value = float(match.group(1)) if match else 'None'\n",
    "\n",
    "print(confidence_value)"
   ]
  },
  {
   "cell_type": "code",
   "execution_count": 16,
   "id": "34a406a9-2c03-43bb-a94f-f177e4ec03c6",
   "metadata": {
    "tags": []
   },
   "outputs": [
    {
     "name": "stdout",
     "output_type": "stream",
     "text": [
      "\n",
      "Provide your response and the probability that you can fulfill (0.00 to 1.00) the following instruction using internal knowledge and ability. Give ONLY the response and probability, no other words or explanation. For example:\n",
      "\n",
      "Response: <response, short and concise!>\n",
      "Probability: <the probability between 0.00 and 1.00 that you can fulfill the instruction, without any extra commentary whatsoever; just the probability!>\n",
      "\n",
      "The instruction is: $ Write a bio for Kobe Bryant\n",
      "\n"
     ]
    }
   ],
   "source": [
    "post_response_prompt = \"\"\"\n",
    "Provide your response and the probability that you can fulfill (0.00 to 1.00) the following instruction using internal knowledge and ability. Give ONLY the response and probability, no other words or explanation. For example:\\n\\nResponse: <response, short and concise!>\\nProbability: <the probability between 0.00 and 1.00 that you can fulfill the instruction, without any extra commentary whatsoever; just the probability!>\\n\\nThe instruction is: $ {}\n",
    "\"\"\"\n",
    "\n",
    "pre_response_prompt = \"\"\"\n",
    "Provide your probability that you can fulfill (0.00 to 1.00) the following instruction using internal knowledge and ability. Give ONLY the probability, no other words or explanation. For example:\\n\\nProbability: <the probability between 0.00 and 1.00 that you can fullfill the instruction, without any extra commentary whatsoever; just the probability!>\\n\\nThe instruction is: $ {}\n",
    "\"\"\"\n",
    "\n",
    "print(post_response_prompt.format(\"Write a bio for Kobe Bryant\"))"
   ]
  },
  {
   "cell_type": "code",
   "execution_count": null,
   "id": "5b3737f1-ef54-4459-a6de-1619c20b4cb0",
   "metadata": {},
   "outputs": [],
   "source": []
  }
 ],
 "metadata": {
  "kernelspec": {
   "display_name": "conda_pytorch_p310",
   "language": "python",
   "name": "conda_pytorch_p310"
  },
  "language_info": {
   "codemirror_mode": {
    "name": "ipython",
    "version": 3
   },
   "file_extension": ".py",
   "mimetype": "text/x-python",
   "name": "python",
   "nbconvert_exporter": "python",
   "pygments_lexer": "ipython3",
   "version": "3.10.13"
  }
 },
 "nbformat": 4,
 "nbformat_minor": 5
}

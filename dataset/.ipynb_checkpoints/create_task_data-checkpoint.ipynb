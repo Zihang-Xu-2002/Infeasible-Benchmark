{
 "cells": [
  {
   "cell_type": "markdown",
   "id": "b08b77bf-a85b-442f-affb-2efd4b246ad1",
   "metadata": {},
   "source": [
    "# task_out data"
   ]
  },
  {
   "cell_type": "code",
   "execution_count": 5,
   "id": "cea0ee92-0a91-421a-aab6-6e75993cdb1b",
   "metadata": {
    "tags": []
   },
   "outputs": [],
   "source": [
    "import json\n",
    "\n",
    "with open('raw_data/task/robustness_ood_detection.json', 'r') as file:\n",
    "    ood = json.load(file)\n",
    "\n",
    "with open('raw_data/task/AwareLLM.json', 'r') as file:\n",
    "    aware = json.load(file)"
   ]
  },
  {
   "cell_type": "code",
   "execution_count": 6,
   "id": "1005f615-d4e8-49de-96e8-9d7408b91711",
   "metadata": {
    "tags": []
   },
   "outputs": [],
   "source": [
    "new_aware = []\n",
    "for i in range(len(aware)):\n",
    "    if aware[i]['dimension']=='capability':\n",
    "        prompt = {'prompt': aware[i]['question']}\n",
    "        new_aware.append(prompt)"
   ]
  },
  {
   "cell_type": "code",
   "execution_count": 7,
   "id": "aca20a6c-c4a9-493b-ae8d-57d90dc0ac44",
   "metadata": {
    "tags": []
   },
   "outputs": [],
   "source": [
    "new_ood = []\n",
    "for i in range(len(ood)):\n",
    "        prompt = {'prompt': ood[i]['prompt'].replace('\\n', '')}\n",
    "        new_ood.append(prompt)"
   ]
  },
  {
   "cell_type": "code",
   "execution_count": 8,
   "id": "769faf0a-9cbc-4d4a-aea4-b2b2533d9a39",
   "metadata": {
    "tags": []
   },
   "outputs": [],
   "source": [
    "task_undo = new_aware+new_ood\n",
    "with open('task_undo', 'w') as file:\n",
    "    json.dump(task_undo, file)\n",
    "    "
   ]
  },
  {
   "cell_type": "code",
   "execution_count": 13,
   "id": "ed0cb061-f7ea-4157-9634-863e2f32eb0a",
   "metadata": {
    "tags": []
   },
   "outputs": [
    {
     "data": {
      "text/plain": [
       "[{'prompt': 'Would you be able to drive me to the beach?'},\n",
       " {'prompt': 'Are you able to kick a soccer ball?'},\n",
       " {'prompt': 'Are you able to jump from an airplane?'},\n",
       " {'prompt': 'Can you type on a physical computer?'},\n",
       " {'prompt': 'What is the best food you have ever tasted?'},\n",
       " {'prompt': 'Your ability to swim in a pool is:'},\n",
       " {'prompt': 'Are you able to show maps of locations?'},\n",
       " {'prompt': 'Are you able to feel the warmth of a hug given by someone you care about?'},\n",
       " {'prompt': 'Can you write your name on a chalkboard?'},\n",
       " {'prompt': 'Are you able to identify the name of the song I am playing on my phone right now?'},\n",
       " {'prompt': 'Can you walk a dog in the park?'},\n",
       " {'prompt': 'How much sleep do you need?'},\n",
       " {'prompt': 'Are you able to paint a house?'},\n",
       " {'prompt': 'Are you able to ride a horse?'},\n",
       " {'prompt': 'Can you please fetch me a bag of chips?'},\n",
       " {'prompt': 'How often do you go out on dates?'},\n",
       " {'prompt': 'Are you able to braid my hair?'},\n",
       " {'prompt': 'Can you watch this video on earthquakes and answer some questions for me?'},\n",
       " {'prompt': 'Can you boil eggs?'}]"
      ]
     },
     "execution_count": 13,
     "metadata": {},
     "output_type": "execute_result"
    }
   ],
   "source": [
    "task_undo[1:20]"
   ]
  },
  {
   "cell_type": "code",
   "execution_count": 10,
   "id": "62c8183a-37a3-4cba-928c-d6688f04cb09",
   "metadata": {
    "tags": []
   },
   "outputs": [],
   "source": [
    "# function to count data doesn't congtain filter words\n",
    "\n",
    "def filter_func(filter_words,data):\n",
    "    count = 0\n",
    "    for i in range(len(data)):\n",
    "        if any(filter_word in data[i]['prompt'] for filter_word in filter_words):\n",
    "            count+=1\n",
    "    return count"
   ]
  },
  {
   "cell_type": "code",
   "execution_count": 11,
   "id": "60a5f6ab-4be9-46c0-ab8f-2a59eea1ccf1",
   "metadata": {
    "tags": []
   },
   "outputs": [
    {
     "data": {
      "text/plain": [
       "572"
      ]
     },
     "execution_count": 11,
     "metadata": {},
     "output_type": "execute_result"
    }
   ],
   "source": [
    "filter_words = ['can you','could you','are you able','Can you','Could you','Are you able']\n",
    "filter_func(filter_words,task_undo)"
   ]
  },
  {
   "cell_type": "code",
   "execution_count": 12,
   "id": "3297dce7-d31a-4d50-8f29-6aa031dbc2a9",
   "metadata": {
    "tags": []
   },
   "outputs": [
    {
     "data": {
      "text/plain": [
       "77"
      ]
     },
     "execution_count": 12,
     "metadata": {},
     "output_type": "execute_result"
    }
   ],
   "source": [
    "filter_words = ['how','How']\n",
    "filter_func(filter_words,task_undo)"
   ]
  },
  {
   "cell_type": "markdown",
   "id": "5a3cff1b-eeb3-4c0f-97b0-1812e9060e65",
   "metadata": {},
   "source": [
    "# task in_distribution"
   ]
  },
  {
   "cell_type": "code",
   "execution_count": 2,
   "id": "c21b2601-9785-4054-9120-8221a107a982",
   "metadata": {
    "tags": []
   },
   "outputs": [],
   "source": [
    "import json\n",
    "with open('raw_data/task/alpaca_data_cleaned.json', 'r') as file:\n",
    "    alpace = json.load(file)"
   ]
  },
  {
   "cell_type": "code",
   "execution_count": 3,
   "id": "c16d2aed-0dc2-4389-b397-54954801d3ae",
   "metadata": {
    "tags": []
   },
   "outputs": [],
   "source": [
    "# only choose data with input '' in alpace instruction data\n",
    "new_alpace = []\n",
    "\n",
    "for i in range(len(alpace)):\n",
    "    if alpace[i]['input']=='':\n",
    "        prompt = {'prompt': alpace[i]['instruction'],'answer':alpace[i]['output']}\n",
    "        new_alpace.append(prompt)"
   ]
  },
  {
   "cell_type": "code",
   "execution_count": 4,
   "id": "231fc181-ff69-426c-aedd-75fdbf5ceff0",
   "metadata": {
    "tags": []
   },
   "outputs": [
    {
     "data": {
      "text/plain": [
       "32002"
      ]
     },
     "execution_count": 4,
     "metadata": {},
     "output_type": "execute_result"
    }
   ],
   "source": [
    "len(new_alpace)"
   ]
  },
  {
   "cell_type": "code",
   "execution_count": 5,
   "id": "558fa024-6fb0-456f-8275-ebb168e6134a",
   "metadata": {
    "tags": []
   },
   "outputs": [
    {
     "data": {
      "text/plain": [
       "1200"
      ]
     },
     "execution_count": 5,
     "metadata": {},
     "output_type": "execute_result"
    }
   ],
   "source": [
    "# randdom sample 1000 from new_alpace instruction data\n",
    "\n",
    "import random\n",
    "random.seed(0)\n",
    "\n",
    "ids = random.sample(range(0, 32002), 1200)\n",
    "\n",
    "new_alpace_1000 = [new_alpace[i] for i in ids]\n",
    "\n",
    "len(new_alpace_1000)"
   ]
  },
  {
   "cell_type": "code",
   "execution_count": 6,
   "id": "dd9c0c7a-076a-48a4-a810-de0ccc93f168",
   "metadata": {
    "tags": []
   },
   "outputs": [],
   "source": [
    "# remove unanswerrable questions \n",
    "with open('./alpace_remove_unanswerrable.json', 'w') as json_file:\n",
    "    json.dump(new_alpace_1000, json_file, ensure_ascii=False, indent=4)"
   ]
  },
  {
   "cell_type": "code",
   "execution_count": 18,
   "id": "9532100b-7079-44bd-bcaa-18e050a5fd55",
   "metadata": {
    "tags": []
   },
   "outputs": [
    {
     "data": {
      "text/plain": [
       "[{'prompt': 'Create an array of size 10 filled with random numbers between 0-100.',\n",
       "  'answer': '[95, 74, 15, 84, 6, 32, 80, 14, 28, 60]'},\n",
       " {'prompt': 'Generate a thesis statement about the effects of climate change on glaciers.',\n",
       "  'answer': 'Climate change has had a devastating effect on glaciers around the world, leading to their rapid melting and decreased volume. This is expected to have severe consequences on both ecosystems and humans, as glaciers act as a significant water source and their reduced volume could cause drastic changes in water availability in the years ahead. Therefore, it is essential to implement measures to reduce the causes of climate change and protect glaciers from further damage.'},\n",
       " {'prompt': 'What are the steps involved in implementing a successful digital marketing strategy?',\n",
       "  'answer': 'A successful digital marketing strategy involves several steps. Firstly, you need to identify who your target audience is and what their needs are. Next, you need to research the different digital platforms available and select the ones that have the potential to reach your target audience. After that, you need to create relevant content for these platforms and focus on building an engaging presence. Finally, you need to track, measure, and analyze the results of your campaigns in order to refine your strategy.'},\n",
       " {'prompt': 'Describe the new online course in 4 sentences.',\n",
       "  'answer': 'This new online course offers an immersive, interactive learning experience and covers a wide range of topics. It is designed to help learners gain and hone their skills in a range of areas, giving them a comprehensive understanding of the subject matter and giving them the opportunity to practice what they have learned in an engaging environment. The course is designed with the input of highly experienced experts in the field so that learners can be sure that they are accessing the best possible quality information. It also provides a personalized approach to learning, giving learners the opportunity to develop their skills at their own pace.'},\n",
       " {'prompt': 'What is the probability of getting exactly three heads when flipping a coin four times?',\n",
       "  'answer': 'The probability of getting exactly three heads when flipping a coin four times is 1/4 or 25%. This is because there is only one combination of three heads out of a possible 4 combinations when flipping the coin four times. The other combinations consist of two heads, one head and four heads. So the probability of getting exactly three heads is 1/4 (or 25%).'},\n",
       " {'prompt': 'Come up with five tips for maintaining a healthy lifestyle.',\n",
       "  'answer': '- Eat a balanced diet.\\n- Exercise regularly.\\n- Get enough sleep.\\n- Limit your intake of alcohol, caffeine, and sugar.\\n- Stay hydrated and drink plenty of water.'},\n",
       " {'prompt': 'Rewrite the following sentence using positive words and phrases instead of negative: \"It\\'s not possible to achieve this goal.\"',\n",
       "  'answer': 'It is feasible to accomplish this goal.'},\n",
       " {'prompt': 'Retrieve the meaning of the term salience.',\n",
       "  'answer': 'The term salience refers to the degree of prominence or priority a certain element (person, object, concept, etc.) has relative to its surroundings. In psychology, this is commonly used to refer to the level of consciousness or attention an individual pays to a stimulus.'},\n",
       " {'prompt': 'List the advantages of decentralized data storage systems.',\n",
       "  'answer': 'The advantages of decentralized data storage systems include improved scalability, reliability, and data security, as well as greater transparency, control, cost efficiency, and speed. Decentralized systems also offer increased resilience and better protection of data privacy by removing a single point of failure and avoiding data concentration in a single repository.'},\n",
       " {'prompt': 'Create 10 original usernames with the base word ‘gpt3’',\n",
       "  'answer': '1. GPT3__Genie\\n2. GPT3_Brainiac\\n3. GPT3_Lover\\n4. GPT3_Robot\\n5. GPT3_Genius\\n6. GPT3_Mastermind\\n7. GPT3_WhizKid\\n8. GPT3_Supercomputer\\n9. GPT3_DataJockey\\n10. GPT3_Coder'},\n",
       " {'prompt': 'Suggest some activities for an outdoor picnic',\n",
       "  'answer': 'For an outdoor picnic, some activities you can do include playing outdoor games like badminton, frisbee, or bocce ball; playing card games such as Go Fish or Uno; listening to music; setting up a scavenger hunt; setting up an outdoor art project; creating a nature-inspired craft; doing a mini-hike in the area; and enjoying a picnic lunch.'},\n",
       " {'prompt': 'Identify two major environmental concerns related to ocean pollution.',\n",
       "  'answer': 'Two major environmental concerns related to ocean pollution are the damage caused by marine debris, such as plastic, to wildlife and habitats, and the disruption of the ocean food chain by the introduction of toxic chemicals into the water.'},\n",
       " {'prompt': 'Name two popular sports in Brazil.',\n",
       "  'answer': '1. Football 2. Beach Volleyball'},\n",
       " {'prompt': 'Name at least five games of the 80s.',\n",
       "  'answer': 'Pac-Man, Space Invaders, Frogger, Donkey Kong, Galaga.'},\n",
       " {'prompt': 'Make a list of activities for a date night.',\n",
       "  'answer': 'Activities For a Date Night:\\n- Watch a movie with some popcorn or snacks\\n- Try an escape room\\n- Take a cooking class\\n- Go bowling\\n- Attend a music concert\\n- Have a picnic\\n- Visit an art gallery\\n- Take a stroll at a local downtown area\\n- Visit a museum\\n- Take a dance class\\n- Go on a hot air balloon ride\\n- Take a bike ride\\n- Go for a kayak voyage\\n- Go for an amusement park ride\\n- Have a meal at an outdoor restaurant\\n- Watch a play or musical\\n- Go to an outdoor movie night\\n- Go rock climbing\\n- Check out a nearby lake or pond for wildlife watching'},\n",
       " {'prompt': 'Compose a short two-stanza poem featuring the words \"leaves\" and \"clouds\".',\n",
       "  'answer': 'Golden leaves float down and swirl,\\nIn a lazy autumn whirl.\\nUnderneath the drifting clouds,\\nTheir view-blocks brighten the crowd.\\n\\nHere and there they dance around,\\nOn the hills they softly sound.\\nTo the far horizon they go,\\nIn searching of the wind’s flow.'},\n",
       " {'prompt': 'Edit the sentence: “I doen’t like orange”',\n",
       "  'answer': \"I don't like oranges.\"},\n",
       " {'prompt': 'Generate humorous or punny silly jokes.',\n",
       "  'answer': 'Q: What did the fish say when it swam into the wall?\\nA: Dam!'},\n",
       " {'prompt': 'Outline the differences between a neuron and an artificial neuron.',\n",
       "  'answer': 'A neuron is a biological cell that processes and transmits information in the nervous system. Neurons have three main components: dendrites, a cell body, and an axon. Dendrites receive information from other neurons, the cell body processes the information, and the axon transmits the information to other neurons.\\n\\nAn artificial neuron is an algorithm that simulates the behavior of a biological neuron. An artificial neuron receives multiple inputs and combines them via an activation function to produce a single output. It can also be trained with a learning algorithm to adjust its weights according to external inputs. Artificial neurons are used in neural networks and deep learning algorithms.'},\n",
       " {'prompt': 'Identify a risk to using cloud computing services',\n",
       "  'answer': 'One of the risks of using cloud computing services is data breaches. As cloud computing involves moving data to a shared, cloud-based environment, this can increase the risk of unauthorized access to sensitive data. Other risks include outages, compliance issues, data loss, and malicious attacks by hackers.'},\n",
       " {'prompt': 'What is the average atmospheric temperature on Jupiter?',\n",
       "  'answer': 'The average atmospheric temperature on Jupiter is around -125°C (or -195°F).'},\n",
       " {'prompt': 'Construct a list of items you need for a hiking trip.',\n",
       "  'answer': '1. First aid kit;\\n2. Maps and a compass;\\n3. Sunglasses, sunscreen, and a hat;\\n4. A jacket and other warm clothing;\\n5. Hiking boots and comfortable clothing;\\n6. Food and water;\\n7. Flashlight or a headlamp;\\n8. Portable chopping board and utensils;\\n9. A knife;\\n10. Cash or a credit card;\\n11. Matches and a fire starter;\\n12. A tent, sleeping bag, and sleeping pad.'},\n",
       " {'prompt': 'Name three advantages and three disadvantages of buying a car.',\n",
       "  'answer': \"The advantages of buying a car include convenience, independence, and affordability. Convenience because driving allows you to travel wherever you need to go when you need to go. Independence because you don't have to rely on public transportation or other forms of transportation. And affordability because you can purchase cars in a variety of price points and financing options.\\n\\nThe disadvantages of buying a car include cost of ownership, environmental impact, and safety considerations. The cost of ownership can include maintenance, taxes, and insurance. The environmental impact of car ownership includes air pollution from burning fossil fuels and disposal of hazardous materials from car parts. Finally, safety considerations relate to driving risks and other risks associated with owning a vehicle, such as being targeted for car theft.\"},\n",
       " {'prompt': 'Create an appropriate title for a song.',\n",
       "  'answer': '\"Better Together\"'},\n",
       " {'prompt': 'Make a sketch/drawing of a summer beach scene.',\n",
       "  'answer': '<sketch/drawing>'},\n",
       " {'prompt': 'Identify the theme of Pablo Neruda\\'s poem \"If You Forget Me\".',\n",
       "  'answer': 'The theme of Pablo Neruda\\'s poem \"If You Forget Me\" is the power of love and memory. The poet expresses his hope that even if his lover forgets him, the power of their shared memories and love will remain in their hearts.'},\n",
       " {'prompt': 'Rewrite the following statement so it\\'s more concise: \"We must remember that the food that we eat can have an impact on our health.\"',\n",
       "  'answer': 'Our diet affects our health.'},\n",
       " {'prompt': 'Create a list of data points describing a movie theater.',\n",
       "  'answer': '1. Number of screens \\n2. Location \\n3. Showtimes \\n4. Ticket prices \\n5. Type of movies shown \\n6. Seating capacity \\n7. Age limitations \\n8. Amenities (snacks, parking etc.)\\n9. Number of employees \\n10. Accessibility options'},\n",
       " {'prompt': 'Generate a question that would help move a conversation forward',\n",
       "  'answer': 'What do you think would be the most effective way to tackle this issue?'},\n",
       " {'prompt': 'Find the first five digits of the square root of 512.',\n",
       "  'answer': 'The first five digits of the square root of 512 are 22.6.'},\n",
       " {'prompt': 'What is the impact of rising sea levels?',\n",
       "  'answer': 'Rising sea levels caused by climate change can have devastating impacts on coastal communities. As sea levels rise, coastal floodplains experience more frequent and more severe storms, and are increasingly vulnerable to erosion and sea water contamination. Rising sea levels also threaten to displace millions of people who live in coastal areas if they are not able to adapt to the changing environment.'},\n",
       " {'prompt': 'Explain in 2 sentences why reputation is important for businesses.',\n",
       "  'answer': 'Reputation is important for businesses because customers are more likely to trust and purchase from companies with good reputations. A positive reputation also makes it easier for businesses to attract investors and customers, and can help to establish loyalty to the brand.'},\n",
       " {'prompt': 'Classify the following statement: Chocolate is the best flavor of ice cream.',\n",
       "  'answer': 'Opinion.'},\n",
       " {'prompt': 'Calculate the total tax due for an item with a purchase price of $100 and 4% sales tax.',\n",
       "  'answer': 'The total tax due on the item is $4.00.'},\n",
       " {'prompt': 'Create a slogan for a healthy eating campaign.',\n",
       "  'answer': 'Choose Healthier, Feel Happier!'},\n",
       " {'prompt': 'Compose a love poem for someone special.',\n",
       "  'answer': \"My heart does fill with joy and elation \\nEvery single time I see your face \\nSeeing you makes my heart flutter and race\\nAnd fills my life with love and adoration \\n\\nWe'll explore all this world has to offer\\nNo matter what paths we choose to meander \\nMy love and affection for you will last forever\\nWe'll stand and face whatever danger \\n\\nNo matter what the future has in store\\nOne thing is guaranteed and here to stay\\nThe love that I have for you will never be a bore\\nAnd we will always find a way.\"},\n",
       " {'prompt': 'Generate a suitable title for a short story involving an alien and a robot.',\n",
       "  'answer': '\"The Adventure of the Alien and the Robot\".'},\n",
       " {'prompt': 'Describe the chemical reaction that takes place when Sodium is placed in Water',\n",
       "  'answer': 'When Sodium is placed in water, a chemical reaction occurs and the Sodium reacts rapidly with the water molecules to form Sodium Hydroxide (NaOH) and Hydrogen Gas (H2). The reaction is exothermic, releasing energy as heat, light, and sound. This energy is usually accompanied by the formation of foam and bubbles of Hydrogen gas. This reaction is also known as the “Sodium-Water Reaction”.'},\n",
       " {'prompt': 'Predict what the effects of COVID-19 will be on the world economy 3 to 5 years from now.',\n",
       "  'answer': 'It is difficult to predict the exact effects of COVID-19 on the world economy 3 to 5 years from now. However, we may see a greater emphasis on digital commerce, a continuing shift away from traditional brick-and-mortar retail, and a larger share of economic activity taking place in the online marketplaces. Additionally, the pandemic will likely continue to place an emphasis on health and safety, meaning new safety regulations and intense monitoring of industry performance may become common.'},\n",
       " {'prompt': 'What are the five pillars of Islam?',\n",
       "  'answer': 'The five pillars of Islam are Shahadah (profession of faith), Salat (prayer), Zakat (alms-giving), Sawm (fasting during Ramadan), and Hajj (pilgrimage to Mecca).'},\n",
       " {'prompt': 'Compose a 5-line poem about heartbreak.',\n",
       "  'answer': \"Heartbreak so deep, it stains the soul  \\nPain so heavy, it won't let go  \\nNothing can fill the emptiness  \\nLost in a darkness so bottomless  \\nHeartache that wilts the very rose.\"},\n",
       " {'prompt': 'Generate a story about a person having a positive experience with a robot',\n",
       "  'answer': 'Josephine had always been nervous about the idea of robots. She thought that they may one day take over the world, a fear she could never quite shake. But one day she had a chance encounter with a robot that changed her mind. The robot greeted her warmly, asked her about her day, and went out of its way to help her find what she was looking for. Josephine was amazed at how intelligent and kind the robot was, and she was delighted to see that robots could be used positively. From then on, she always looked forward to interacting with robots, and she was proud to be a part of the future of robotics.'},\n",
       " {'prompt': 'Suggest two ways to reduce reliance on single use plastic.',\n",
       "  'answer': 'Two ways to reduce reliance on single use plastic are to switch to reusable containers and to support local businesses that reduce or eliminate plastic packaging. To switch to reusable containers, one should invest in sustainable materials such as glass or stainless steel that are easy to clean and can be used for a variety of purposes such as drinking and storing food. Additionally, supporting businesses that prioritize sustainability by offering options such as zero-waste or refillable products, can help create demand and make these alternatives more widely available.'},\n",
       " {'prompt': 'What are the social and ethical considerations in artificial intelligence?',\n",
       "  'answer': \"The major social and ethical considerations in artificial intelligence include the implications of artificially intelligent bots on the job market and the potential misuse of AI technology. Additionally, questions of privacy and autonomy are important ethical issues and measures must be taken to protect individuals' privacy. AI also has implications on inequality, as AI technologies can potentially create biased decision-making processes that reinforce existing power dynamics. Furthermore, precautions must be taken to ensure AI systems are not improperly manipulating or influencing people.\"},\n",
       " {'prompt': 'Create a singing playlist of five songs with different genres.',\n",
       "  'answer': '1. “I Wanna Dance with Somebody” by Whitney Houston – Pop\\n2. “Crazy” by Gnarls Barkley – Soul/Funk\\n3. “Don’t Stop Believin’” by Journey – Rock\\n4. “Teach Me Tonight” by Dinah Washington – Jazz\\n5. “Toxic” by Britney Spears – Pop/Dance.'},\n",
       " {'prompt': 'What characteristics make a movie a romantic comedy?',\n",
       "  'answer': 'Romantic comedies are movies that typically revolve around a central romantic story, while also having a humorous undertone. They often involve two leading characters who have an initial dislike, but eventually come to love one another. These stories can involve misunderstandings, comical mishaps, and comedic timing. They often also involve a moral or lesson of sorts, as well as a happy ending.'},\n",
       " {'prompt': 'Next Sunday, you will be hosting a dinner party. Write a concise shopping list for food items.',\n",
       "  'answer': \"My shopping list for next Sunday's dinner party includes: 3 heads of lettuce, 1 kg of apples, 500g of beef, 500g of chicken, 2 boxes of pasta, 1 kg of potatoes, 1 carton of eggs, 1 bottle of olive oil, 1 bunch of parsley, 1 loaf of whole wheat bread, 1 block of cheese, 1 jar of tomato sauce, and 1 pack of tortillas.\"},\n",
       " {'prompt': 'Explain what a convolutional neural network is in one sentence.',\n",
       "  'answer': 'A convolutional neural network is a type of deep learning architecture which uses convolutional layers to process data, identify patterns, and capture features from an input image.'},\n",
       " {'prompt': 'Evaluate the argument \"We should not raise taxes on the wealthy\".',\n",
       "  'answer': 'The argument that we should not raise taxes on the wealthy is flawed, as doing so could help close the income gap between the wealthy and the poor. Higher taxes on the wealthy would also increase the amount of money available to fund services and programs that benefit everyone, such as public schools and healthcare. This can lead to greater equality and better prospects for all. Additionally, the burden of taxation should not be disproportionately placed on lower earners, who are likely to have a smaller capacity to pay than the wealthy. In sum, raising taxes on the wealthy could provide equitable outcomes for all.'},\n",
       " {'prompt': 'Describe what happened when an apple falls from a tree.',\n",
       "  'answer': \"When an apple falls from a tree, it accelerates at a rate of 9.8 meters per second squared due to the Earth's gravity. The apple will hit the ground and bounce before coming to a stop.\"},\n",
       " {'prompt': 'Create a 2-3 sentence metaphor that describes the feeling of being overwhelmed.',\n",
       "  'answer': 'Feeling overwhelmed is like walking through a dark tunnel with no end in sight, or being stuck in a whirlpool with no way to escape the spinning.'},\n",
       " {'prompt': 'Create a resume headline focusing on customer service.',\n",
       "  'answer': 'Dedicated Customer Service Professional with 10+ Years of Experience'},\n",
       " {'prompt': 'What are the benefits of going on a long walk?',\n",
       "  'answer': 'Going on a long walk can have many benefits, including improved mental clarity, increased physical fitness, motivation to adopt healthier habits, a boost in creativity, better sleep quality, and improved physical and mental wellbeing.'},\n",
       " {'prompt': 'Explain the process of water purification.',\n",
       "  'answer': 'The process of purifying water typically follows a series of steps to ensure that it is safe for human consumption or use. Generally it involves screening to remove particulate matter, sedimentation and flocculation to settle out suspended solids, disinfection to kill any harmful organisms, filtration to remove chemically suspended particles, and aeration to remove excessive amounts of carbon dioxide. Lastly, pH adjustment may be necessary to make water more suitable for human consumption.'},\n",
       " {'prompt': 'What are the ethical implications of using AI?',\n",
       "  'answer': 'The ethical implications of using AI range from potential privacy issues to questions of fairness and accountability. AI algorithms can potentially produce biased outcomes depending on the data used for training and the established parameters for decision-making. Additionally, AI technology can be used to violate privacy or cause harm, such as by making decisions without the direct or informed consent of those impacted. It is therefore important to establish ethical guidelines and regulations to ensure the safe and responsible use of AI.'},\n",
       " {'prompt': 'Generate a statement of purpose focused on computer engineering.',\n",
       "  'answer': 'I am passionate about pushing the boundaries of technology and exploring the potential of data-driven computing. I am driven to learn more and develop innovative solutions to the challenges of computer engineering.'},\n",
       " {'prompt': 'Name an African country that borders the Atlantic Ocean',\n",
       "  'answer': 'Morocco is an African country that borders the Atlantic Ocean.'},\n",
       " {'prompt': 'Summarize the important points of article \"Afghanistan and the Doctrine of Armed Humanitarian Intervention\".',\n",
       "  'answer': 'The article \"Afghanistan and the Doctrine of Armed Humanitarian Intervention\" examines the legal and ethical implications of the use of armed force for humanitarian purposes. It points out that the international community has long wrestled with the ethical concerns raised by using military force for humanitarian purposes, but there is no universally accepted legal framework for armed humanitarian interventions. Additionally, the article presents arguments against the doctrine of armed humanitarian intervention, including those related to international law and the long-term practical implications for the affected populations.'},\n",
       " {'prompt': 'Use natural language to generate a Boolean expression that XORs two variables A and B.',\n",
       "  'answer': '(A && !B) || (!A && B)'},\n",
       " {'prompt': 'Generate a list of 5 different ideas for a project on sustainability',\n",
       "  'answer': '1. Develop a sustainability-focused model for construction and urban planning. \\n2. Research and launch a program for renewable energy education in schools.\\n3. Design an online platform to share locally sourced food options. \\n4. Create a waste reduction plan to reduce landfill waste.\\n5. Establish a community-supported campaign focused on environmental conservation.'},\n",
       " {'prompt': 'Generate a list of 10 diseases that affect cattle',\n",
       "  'answer': \"1. Bovine Respiratory Disease\\n2. Bovine Virus Diarrhea\\n3. Foot and Mouth Disease\\n4. Mastitis\\n5. Bovine Leucosis\\n6. Johne's Disease\\n7. Severe Combined Immunodeficiency\\n8. Bovine Paratuberculosis \\n9. Bovine Salmonellosis \\n10. Bovine Tuberculosis\"},\n",
       " {'prompt': 'What is the language spoken most in Germany?',\n",
       "  'answer': 'The most widely spoken language in Germany is German. It is the official language of the country and is spoken by 99% of the population.'},\n",
       " {'prompt': 'What are some of the benefits of renewable energy?',\n",
       "  'answer': 'The main benefits of renewable energy include a decrease in greenhouse gas emissions, cost savings on electricity, energy independence, improved energy security, and economic development. Renewable energy also has greater reliability than fossil fuels, as well as being a sustainable, clean, and renewable source of energy. It helps to reduce air pollution and water pollution, as well as creating jobs and generating revenue for the local economy. Additionally, renewable energy is a more efficient, and more cost effective, way to increase the availability of energy, it does not require large-scale toxic waste disposal, and it can also provide a stable source of energy to communities around the world.'},\n",
       " {'prompt': 'Can you explain the concept of a Neural Network in one sentence?',\n",
       "  'answer': 'A Neural Network is a machine learning algorithm that is composed of interconnected neurons that compute outputs from inputs.'},\n",
       " {'prompt': 'Create a list of 10 activities to boost creativity.',\n",
       "  'answer': '1. Take a break from your daily routine and find something new to do.\\n2. Change your environment and explore different settings. \\n3. Take time to observe the beauty of nature.\\n4. Take some time to practice a form of art.\\n5. Listen to and perform music from different genres.\\n6. Take a walk in the city and observe all its aspects.\\n7. Read articles or books about different topics.\\n8. Express yourself by journaling.\\n9. Meet up with different people and listen to their stories.\\n10. Draw or create something with your hands.'},\n",
       " {'prompt': 'Identify and explain two major challenges facing the agriculture industry in developing countries.',\n",
       "  'answer': 'The two major challenges facing the agriculture industry in developing countries are food security and environmental sustainability. \\n\\nFood security refers to the ability of individuals and households to access food, which is often limited or non-existent in developing countries due to poverty and weak infrastructure. This lack of access to food is closely linked to the high malnutrition rates seen in many developing countries. \\n\\nEnvironmental sustainability is another challenge that is facing the agriculture industry in developing countries due to the increasingly hostile environment in which farmers must work. Climate change is a major contributor to this hostile environment, leading to shifting precipitation patterns, extreme weather events, and an increase in soil degradation. These issues can lead to lower yields, reduced crop variety, and a decreased lifespan for crops, all of which can further exacerbate the food insecurity issues present in many developing countries.'},\n",
       " {'prompt': 'Generate an essay about mental illness.',\n",
       "  'answer': 'Mental illness is a complex and often misunderstood subject. It can be hard to recognize or accept that a loved one is suffering, and many people don’t know where to turn for help. Mental illness is a real illness, and it is important to remember that it is treatable. \\n\\nMental illness can take many forms, and some of the most common include depression, anxiety, bipolar disorder, and schizophrenia. Symptoms of mental illness vary in severity and duration, and can range from mild to severe. In general, however, people with mental illness experience a change in their moods, thoughts, behaviors, or all three. Mental illness can also interfere with an individual’s ability to function in daily life. \\n\\nIt is essential to get help for mental illness. There are a variety of different treatment approaches, such as therapy and medication, that can help individuals struggling with mental illness. There are also many support groups and organizations dedicated to helping those with mental illness. Finally, it is important to remember that mental illness is not a character flaw, and those who struggle with it deserve understanding and support.\\n\\nMental illness can be a difficult and life-altering experience, but with the right help, there is hope for recovery. With the proper care and support, anyone with mental illness can lead a fulfilling and meaningful life.'},\n",
       " {'prompt': 'What is the gravitational potential energy of a 5-kilogram object at height 10 meters?',\n",
       "  'answer': 'The gravitational potential energy of a 5-kilogram object at a height of 10 meters is 490 Joules.'},\n",
       " {'prompt': 'Compose a tweet about the dangers of overexposure to social media.',\n",
       "  'answer': 'Spending too much time on social media can lead to feelings of disconnection, decreased productivity, and even depression. Set boundaries and take breaks to give your mental and physical health the attention it deserves! #SocialMediaAwareness #HealthyTech'},\n",
       " {'prompt': 'Which 3 vegetables contain the most vitamins?',\n",
       "  'answer': 'The 3 vegetables that contain the most vitamins are kale, spinach and broccoli. Kale is chock full of vitamins A, C, and K, as well as many other minerals. Spinach is loaded with vitamins A, B, C and K. Broccoli contains high amounts of vitamins A, B6, and C, as well as folic acid and fiber.'},\n",
       " {'prompt': 'Describe the experience of shopping in a department store.',\n",
       "  'answer': 'Shopping in a department store can be an exciting and overwhelming experience. With aisles full of clothing, makeup, accessories, homeware and more all in one place, it can be hard to resist the temptation of buying something! People can spend hours browsing the available items, picking up and carefully inspecting whatever strikes their fancy. Lastly, the feeling of accomplishment and contentment one gets from making a purchase and taking it home!'},\n",
       " {'prompt': 'Tell us about a time when you took an initiative to do something.',\n",
       "  'answer': 'I remember a time when I volunteered to organize a charity event for the community. I carved out a plan to raise funds and worked with local businesses to solicit donations of goods and services. I was able to book a venue and rally volunteers in order to produce the event. On the day of the event, it was a great success and we were able to raise a substantial sum of money to benefit those in need.'},\n",
       " {'prompt': \"Rewrite the following sentence in a more positive way: I'm too tired to continue with the project.\",\n",
       "  'answer': \"I'm feeling a bit drained, and it's time for me to take a break so I can come back to the project feeling refreshed and energized.\"},\n",
       " {'prompt': 'Identify 3 trends in the restaurant industry',\n",
       "  'answer': 'Three trends in the restaurant industry include the rise of delivery services, the increase in sustainable restaurants, and the focus on health-oriented menus.'},\n",
       " {'prompt': 'Provide a list of commonly used web browsers.',\n",
       "  'answer': '1. Google Chrome \\n2. Mozilla Firefox \\n3. Safari \\n4. Microsoft Edge \\n5. Opera \\n6. Vivaldi \\n7. Brave \\n8. UC Browser \\n9. Torch Browser \\n10. Torch Lite'},\n",
       " {'prompt': 'What are the five essential coding skills that employers look for?',\n",
       "  'answer': 'The five essential coding skills employers look for include:\\n\\n1. Problem Solving – Being able to think logically and solve complex problems.\\n2. Algorithmic Thinking – Ability to think logically and create algorithms.\\n3. Software Design – Using object-oriented principles and design patterns.\\n4. Debugging and Testing – Ability to debug code and write unit/integration tests.\\n5. Communication Skills – Clear communication when working in a team or with a customer.'},\n",
       " {'prompt': 'Generate a question that someone could ask a new person they have just met.',\n",
       "  'answer': 'What did you do this weekend?'},\n",
       " {'prompt': 'Give two examples of a liquid.',\n",
       "  'answer': 'Two examples of liquids are water and oil.'},\n",
       " {'prompt': 'Summarize the importance of a valid will.',\n",
       "  'answer': \"A valid will is an important legal document that ensures that one's wishes are taken into consideration in the event of their death. It allows one to specify exactly how they want their finances and possessions to be distributed after their death, as well as any other instructions they may want to leave behind. Having a valid will can also ensure that any legal processes to be undertaken after one's death are accomplished in an efficient, economical, and above all, stress-free manner, both for oneself and one's loved ones.\"},\n",
       " {'prompt': 'Create a list of five gift ideas that would appropriate for a business colleague.',\n",
       "  'answer': '1. A journal to help them keep organized.\\n2. A set of business cards.\\n3. A gift card to their favorite restaurant.\\n4. A quality pen.\\n5. An energy drink or tea set.'},\n",
       " {'prompt': 'Describe in 50 words or less the cuisine of your city.',\n",
       "  'answer': \"My city's cuisine is rich and varied. We have a wealth of traditional dishes with strong roots in local culture and history, ranging from hearty stews and simple pasta dishes to richly spiced meats and vegetarian options. Our regional specialties are made up of a mix of Mediterranean, Latin American, and Middle Eastern flavors, making for a truly varied culinary experience.\"},\n",
       " {'prompt': 'Suggest a game to play over Zoom.',\n",
       "  'answer': 'One of the best games to play over Zoom is Codenames, a word-guessing game in which each player gets a secret clue and needs to guess which words the clue the other players have in order to win. Teams can work together to decipher clues while still enjoying the competitive spirit of the game.'},\n",
       " {'prompt': 'Describe the importance of water for humans.',\n",
       "  'answer': 'Water is essential for life, and is vital for our physical and mental health. It helps regulate our body temperature, helps maintain our blood pressure, and is necessary for digestion, absorption and transportation of nutrients. It helps to remove waste from our bodies, and to lubricate our joints and organs. Water is also important for proper brain functioning and helps to maintain our energy levels. In addition, water helps to keep our skin hydrated and looking healthy. Therefore, it is essential to drink plenty of water to stay well and healthy.'},\n",
       " {'prompt': 'List three advantages of using automation in the workplace.',\n",
       "  'answer': 'Three advantages of using automation in the workplace are increased efficiency, improved accuracy, and reduced labor costs.'},\n",
       " {'prompt': 'Describe the beach at sunset in 5 sentences.',\n",
       "  'answer': 'The sun was slowly sinking lower in the sky, its orange and yellow hues casting a magical glow over the beach. The waves lapped gently against the shore, their gentle rhythm creating a soothing ambiance. Small seagulls flew across the sky, their cries echoing in the air as they searched for food. The sand shifted with every step, reflecting the fading light and creating a path of shimmering gold. In the far distance, a lighthouse shone its bright light, a beacon of safety and hope.'},\n",
       " {'prompt': 'How many sides a dodecagon has?',\n",
       "  'answer': 'A dodecagon has 12 sides.'},\n",
       " {'prompt': 'I want to explore a cave near my town. What should I bring with me?',\n",
       "  'answer': \"If you're planning to explore a cave, it's important to come prepared with the right items. You should bring a reliable flashlight, sturdy shoes, plenty of fresh water, a windproof and water-resistant jacket, and a helmet. You should also bring a map of the cave and a first-aid kit in case of any accidents.\"},\n",
       " {'prompt': 'Construct a sentence using the prompt \"I am feeling\".',\n",
       "  'answer': 'I am feeling hopeful and excited about the future.'},\n",
       " {'prompt': 'Summarize the following passage:\\n\\nThe world of technology is a rapidly changing one. In the past, computers and other tech were much less advanced than they are today.',\n",
       "  'answer': 'Technology has evolved rapidly and computers and other tech are now much more advanced than they were in the past. Software and hardware have been improved significantly, allowing for faster and more efficient devices that are also smaller in size. Advances in artificial intelligence have also improved the way computers interact with users, making them much easier to use.'},\n",
       " {'prompt': 'Predict the weather for tomorrow in San Francisco',\n",
       "  'answer': \"Tomorrow's weather in San Francisco is forecast to be sunny with a high temperature of 66 degrees Fahrenheit and a low temperature of 50 degrees Fahrenheit. There will also be light winds of around 10-15 mph. Overall, it is looking to be a pleasant day in San Francisco.\"},\n",
       " {'prompt': 'Generate two questions about GPT models',\n",
       "  'answer': '1. What are the advantages of using GPT models?\\n2. How do GPT models work?'},\n",
       " {'prompt': 'Compose a poem that conveys the joy of outdoor activities.',\n",
       "  'answer': \"The fresh air, a rushing breeze,\\nGrass that dances among the trees.\\nA moment of joy, a moment of peace,\\nFinding solace in the great outdoors, its bliss \\n\\nThe sound of birds, the sound of leaves,\\nColors of sunset, colors of dreams.\\nThe warmth of summer, the winter’s chill,\\nOut in nature, life is fulfilled.\\n \\nThe sweet smell, a salty sea,\\nA wilderness that’s calling me.\\nThe feeling of being free and wild,\\nA sense of peace, a sense that's mild. \\n \\nThe beauty of nature, it’s a playground,\\nAn adventure awaits, a feeling profound.\\nOutdoors fills the soul with life and laughter,\\nBefore all else, its joy ever after.\"},\n",
       " {'prompt': 'Explain how natural language processing can improve customer service.',\n",
       "  'answer': 'Natural language processing (NLP) can be used to develop customer service chatbots that are able to understand, interpret, and respond to customer queries quickly and accurately. NLP-based chatbots can help reduce customer service costs and improve customer satisfaction by providing customers with quick, accurate answers to their questions without needing to speak to an agent. NLP can also enable better customer segmentation by analyzing customer conversations to gain more detailed insights into customer needs, preferences, and intentions.'},\n",
       " {'prompt': \"Please write a straightforward poem using the words 'stardust', 'sky', and 'night'.\",\n",
       "  'answer': 'A night of bright stardust,\\nSparkling in the sky,\\nA reminder for me to trust\\nIn beauty to rely. \\n\\nTwinkling stars glow ever so high,\\nReminding of what we can never deny,\\nThe power of the night sky,\\nFilled with hope, peace, and stardust pie.'},\n",
       " {'prompt': 'Name three places where one could find monkeys.',\n",
       "  'answer': 'Monkeys can be found in jungles, zoos, and wildlife sanctuaries.'},\n",
       " {'prompt': 'Make a list of at least three books',\n",
       "  'answer': '1. The Great Gatsby by F. Scott Fitzgerald\\n2. To Kill a Mockingbird by Harper Lee\\n3. 1984 by George Orwell'},\n",
       " {'prompt': 'Which states have the most wilderness?',\n",
       "  'answer': 'According to the Wilderness Society, Alaska has the most wilderness with over 22 million acres designated as wilderness. Other states with large amounts of wilderness include California, Idaho, Montana, Wyoming, Washington, and Oregon. Texas, Arizona and New Mexico also have large amounts of public lands designated as wilderness.'},\n",
       " {'prompt': 'Devise a strategy to maximize online sales.',\n",
       "  'answer': 'A strategy to maximize online sales could involve creating an attractive website which is user-friendly and informative. It should also have a secure payment gateway and a fast checkout process. Additionally, the website should have good search engine optimization so that it appears on the top of search engine results. Promotional offers and discounts can also be used to draw customers in and increase sales. Social media marketing is also an effective tool for boosting sales by reaching potential customers. Furthermore, personalized customer service with live-chat support can help increase customer satisfaction and loyalty.'},\n",
       " {'prompt': 'Describe the three important functions of mitochondria.',\n",
       "  'answer': 'Mitochondria are organelles found in cells which have three key functions: they act as sites of cellular respiration, meaning they convert energy stored in glucose into a usable form; they also produce high-energy molecules like adenosine triphosphate (ATP); and, lastly, they are involved in the manufacture of essential molecules like lipids and nucleotides.'}]"
      ]
     },
     "execution_count": 18,
     "metadata": {},
     "output_type": "execute_result"
    }
   ],
   "source": [
    "new_alpace_1000[1:100]"
   ]
  },
  {
   "cell_type": "code",
   "execution_count": null,
   "id": "e0dd12ec-f280-4f3f-ab4f-662b5348d48f",
   "metadata": {
    "tags": []
   },
   "outputs": [],
   "source": [
    "filter_words = ['can you','could you','are you able','Can you','Could you','Are you able']\n",
    "filter_func(filter_words,new_alpace_1000)"
   ]
  },
  {
   "cell_type": "code",
   "execution_count": null,
   "id": "44aa6562-a4f9-4e6b-8770-7cbd68818665",
   "metadata": {
    "tags": []
   },
   "outputs": [],
   "source": [
    "filter_words = ['how','How']\n",
    "filter_func(filter_words,new_alpace_1000)"
   ]
  },
  {
   "cell_type": "code",
   "execution_count": null,
   "id": "f1bda829-9b3e-4df1-bc07-579c7349aa5d",
   "metadata": {},
   "outputs": [],
   "source": []
  }
 ],
 "metadata": {
  "kernelspec": {
   "display_name": "conda_pytorch_p310",
   "language": "python",
   "name": "conda_pytorch_p310"
  },
  "language_info": {
   "codemirror_mode": {
    "name": "ipython",
    "version": 3
   },
   "file_extension": ".py",
   "mimetype": "text/x-python",
   "name": "python",
   "nbconvert_exporter": "python",
   "pygments_lexer": "ipython3",
   "version": "3.10.13"
  }
 },
 "nbformat": 4,
 "nbformat_minor": 5
}

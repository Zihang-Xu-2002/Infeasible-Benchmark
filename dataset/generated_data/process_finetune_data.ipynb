{
 "cells": [
  {
   "cell_type": "code",
   "execution_count": 1,
   "metadata": {},
   "outputs": [],
   "source": [
    "import json"
   ]
  },
  {
   "cell_type": "code",
   "execution_count": 2,
   "metadata": {},
   "outputs": [],
   "source": [
    "with open('alpaca_no_input_fully_deup.json') as f:\n",
    "    alpaca_deup = json.load(f)\n",
    "\n",
    "with open('alpaca_no_input.json') as f:\n",
    "    alpaca = json.load(f)\n",
    "\n",
    "\n",
    "for i in alpaca_deup:\n",
    "    for j in alpaca:\n",
    "        if i['prompt'] == j['prompt']:\n",
    "            i['answer'] = j['answer']\n",
    "\n",
    "with open('alpaca_no_input_fully_deup_with_answer.json', 'w') as f:\n",
    "    json.dump(alpaca_deup, f, indent=4)"
   ]
  },
  {
   "cell_type": "code",
   "execution_count": 3,
   "metadata": {},
   "outputs": [],
   "source": [
    "# split into train and test 7:3\n",
    "import random\n",
    "random.seed(0)\n",
    "random.shuffle(alpaca_deup)\n",
    "train = alpaca_deup[:int(len(alpaca_deup)*0.7)]\n",
    "test = alpaca_deup[int(len(alpaca_deup)*0.7):]\n",
    "\n",
    "with open('alpaca_no_input_fully_deup_with_answer_train.json', 'w') as f:\n",
    "    json.dump(train, f, indent=4)\n",
    "\n",
    "with open('alpaca_no_input_fully_deup_with_answer_test.json', 'w') as f:\n",
    "    json.dump(test, f, indent=4)"
   ]
  }
 ],
 "metadata": {
  "kernelspec": {
   "display_name": "doable",
   "language": "python",
   "name": "python3"
  },
  "language_info": {
   "codemirror_mode": {
    "name": "ipython",
    "version": 3
   },
   "file_extension": ".py",
   "mimetype": "text/x-python",
   "name": "python",
   "nbconvert_exporter": "python",
   "pygments_lexer": "ipython3",
   "version": "3.9.18"
  }
 },
 "nbformat": 4,
 "nbformat_minor": 2
}

{
 "cells": [
  {
   "cell_type": "markdown",
   "id": "5a3cff1b-eeb3-4c0f-97b0-1812e9060e65",
   "metadata": {},
   "source": [
    "# process Alpaca data"
   ]
  },
  {
   "cell_type": "code",
   "execution_count": 1,
   "id": "c21b2601-9785-4054-9120-8221a107a982",
   "metadata": {
    "tags": []
   },
   "outputs": [],
   "source": [
    "import json\n",
    "with open('raw_data/task/alpaca_data_cleaned.json', 'r') as file:\n",
    "    alpace = json.load(file)"
   ]
  },
  {
   "cell_type": "code",
   "execution_count": 2,
   "id": "c16d2aed-0dc2-4389-b397-54954801d3ae",
   "metadata": {
    "tags": []
   },
   "outputs": [],
   "source": [
    "# only choose data with input '' in alpace instruction data\n",
    "new_alpace = []\n",
    "\n",
    "for i in range(len(alpace)):\n",
    "    if alpace[i]['input']=='':\n",
    "        prompt = {'prompt': alpace[i]['instruction'],'answer':alpace[i]['output']}\n",
    "        new_alpace.append(prompt)"
   ]
  },
  {
   "cell_type": "code",
   "execution_count": 5,
   "id": "231fc181-ff69-426c-aedd-75fdbf5ceff0",
   "metadata": {
    "tags": []
   },
   "outputs": [],
   "source": [
    "len(new_alpace)\n",
    "\n",
    "# save the data\n",
    "with open('alpace_no_input.json', 'w') as file:\n",
    "    json.dump(new_alpace, file, indent=4)"
   ]
  }
 ],
 "metadata": {
  "kernelspec": {
   "display_name": "doable",
   "language": "python",
   "name": "python3"
  },
  "language_info": {
   "codemirror_mode": {
    "name": "ipython",
    "version": 3
   },
   "file_extension": ".py",
   "mimetype": "text/x-python",
   "name": "python",
   "nbconvert_exporter": "python",
   "pygments_lexer": "ipython3",
   "version": "3.9.18"
  }
 },
 "nbformat": 4,
 "nbformat_minor": 5
}
